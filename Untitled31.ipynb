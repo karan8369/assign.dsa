{
 "cells": [
  {
   "cell_type": "code",
   "execution_count": 5,
   "id": "36c62a50",
   "metadata": {},
   "outputs": [
    {
     "name": "stdout",
     "output_type": "stream",
     "text": [
      "Pairs with sum 9 are: [(4, 5), (2, 7), (8, 1)]\n"
     ]
    }
   ],
   "source": [
    "def find_pairs(arr, target):\n",
    "    pairs = []\n",
    "    for i in range(len(arr)):\n",
    "        for j in range(i + 1, len(arr)):\n",
    "            if arr[i] + arr[j] == target:\n",
    "                pairs.append((arr[i], arr[j]))\n",
    "    return pairs\n",
    "nums = [3, 4, 5, 2, 7, 8, 1]\n",
    "target_sum = 9\n",
    "result = find_pairs(nums, target_sum)\n",
    "print(\"Pairs with sum\",target_sum,\"are:\",result)"
   ]
  },
  {
   "cell_type": "code",
   "execution_count": 6,
   "id": "ec7125d6",
   "metadata": {},
   "outputs": [
    {
     "name": "stdout",
     "output_type": "stream",
     "text": [
      "Reversed array: [1, 8, 7, 2, 5, 4, 3]\n"
     ]
    }
   ],
   "source": [
    "def reverse_array(arr):\n",
    "    start_index = 0\n",
    "    end_index = len(arr) - 1\n",
    "    while start_index < end_index:\n",
    "        arr[start_index], arr[end_index] = arr[end_index], arr[start_index]\n",
    "        start_index += 1\n",
    "        end_index -= 1\n",
    "nums = [3, 4, 5, 2, 7, 8, 1]\n",
    "reverse_array(nums)\n",
    "print(\"Reversed array:\", nums)"
   ]
  },
  {
   "cell_type": "code",
   "execution_count": 7,
   "id": "5a7e92bb",
   "metadata": {},
   "outputs": [
    {
     "name": "stdout",
     "output_type": "stream",
     "text": [
      "Are 'hello' and 'lohel' rotations of each other? True\n"
     ]
    }
   ],
   "source": [
    " def are_rotations(str1, str2):\n",
    "    if len(str1) != len(str2) or len(str1) == 0:\n",
    "        return False\n",
    "    temp = str1 + str1\n",
    "    if str2 in temp:\n",
    "        return True\n",
    "    else:\n",
    "        return False\n",
    "string1 = \"hello\"\n",
    "string2 = \"lohel\"\n",
    "result = are_rotations(string1, string2)\n",
    "print(\"Are '{}' and '{}' rotations of each other?\".format(string1, string2), result)\n",
    "\n",
    "\n"
   ]
  },
  {
   "cell_type": "code",
   "execution_count": 8,
   "id": "c00dfbd3",
   "metadata": {},
   "outputs": [
    {
     "name": "stdout",
     "output_type": "stream",
     "text": [
      "First non-repeated character in 'hello' is: 'h'\n"
     ]
    }
   ],
   "source": [
    "\n",
    "def first_non_repeated_char(string):\n",
    "    char_count = {}\n",
    "    for char in string:\n",
    "        if char in char_count:\n",
    "            char_count[char] += 1\n",
    "        else:\n",
    "            char_count[char] = 1\n",
    "    for char in string:\n",
    "        if char_count[char] == 1:\n",
    "            return char\n",
    "    return None\n",
    "input_string = \"hello\"\n",
    "result = first_non_repeated_char(input_string)\n",
    "\n",
    "if result:\n",
    "    print(\"First non-repeated character in '{}' is: '{}'\".format(input_string, result))\n",
    "else:\n",
    "    print(\"There is no non-repeated character in '{}'\".format(input_string))\n",
    "\n",
    "\n"
   ]
  },
  {
   "cell_type": "code",
   "execution_count": 9,
   "id": "b1d0a7ac",
   "metadata": {},
   "outputs": [
    {
     "name": "stdout",
     "output_type": "stream",
     "text": [
      "Move disk 1 from A to C\n",
      "Move disk 2 from A to B\n",
      "Move disk 1 from C to B\n",
      "Move disk 3 from A to C\n",
      "Move disk 1 from B to A\n",
      "Move disk 2 from B to C\n",
      "Move disk 1 from A to C\n"
     ]
    }
   ],
   "source": [
    "def tower_of_hanoi(n, source, auxiliary, destination):\n",
    "    if n == 1:\n",
    "        print(f\"Move disk 1 from {source} to {destination}\")\n",
    "        return\n",
    "    tower_of_hanoi(n-1, source, destination, auxiliary)\n",
    "    print(f\"Move disk {n} from {source} to {destination}\")\n",
    "    tower_of_hanoi(n-1, auxiliary, source, destination)\n",
    "num_disks = 3\n",
    "tower_of_hanoi(num_disks, 'A', 'B', 'C')\n",
    "\n"
   ]
  },
  {
   "cell_type": "code",
   "execution_count": 10,
   "id": "30a17128",
   "metadata": {},
   "outputs": [
    {
     "name": "stdout",
     "output_type": "stream",
     "text": [
      "Postfix expression: ab+c*\n",
      "Prefix expression: *+abc\n"
     ]
    }
   ],
   "source": [
    "def is_operand(char):\n",
    "    return char.isalpha() or char.isdigit()\n",
    "\n",
    "def postfix_to_prefix(postfix):\n",
    "    stack = []\n",
    "\n",
    "    for symbol in postfix:\n",
    "        if is_operand(symbol):\n",
    "            stack.append(symbol)\n",
    "        else:\n",
    "            operand1 = stack.pop()\n",
    "            operand2 = stack.pop()\n",
    "            stack.append(symbol + operand2 + operand1)\n",
    "\n",
    "    return stack.pop()\n",
    "\n",
    "postfix_expression = \"ab+c*\"\n",
    "prefix_expression = postfix_to_prefix(postfix_expression)\n",
    "print(\"Postfix expression:\", postfix_expression)\n",
    "print(\"Prefix expression:\", prefix_expression)\n",
    "\n"
   ]
  },
  {
   "cell_type": "code",
   "execution_count": 11,
   "id": "317cd7bd",
   "metadata": {},
   "outputs": [
    {
     "name": "stdout",
     "output_type": "stream",
     "text": [
      "Prefix expression: *+AB-CD\n",
      "Infix expression: ((A+B)*(C-D))\n"
     ]
    }
   ],
   "source": [
    "\n",
    "def is_operand(char):\n",
    "    return char.isalpha() or char.isdigit()\n",
    "\n",
    "def prefix_to_infix(prefix):\n",
    "    stack = []\n",
    "\n",
    "    for symbol in reversed(prefix):\n",
    "        if is_operand(symbol):\n",
    "            stack.append(symbol)\n",
    "        else:\n",
    "            operand1 = stack.pop()\n",
    "            operand2 = stack.pop()\n",
    "            stack.append(\"(\" + operand1 + symbol + operand2 + \")\")\n",
    "\n",
    "    return stack.pop()\n",
    "\n",
    "prefix_expression = \"*+AB-CD\"\n",
    "infix_expression = prefix_to_infix(prefix_expression)\n",
    "print(\"Prefix expression:\", prefix_expression)\n",
    "print(\"Infix expression:\", infix_expression)\n",
    "\n",
    "\n"
   ]
  },
  {
   "cell_type": "code",
   "execution_count": 12,
   "id": "de37854c",
   "metadata": {},
   "outputs": [
    {
     "name": "stdout",
     "output_type": "stream",
     "text": [
      "Brackets in the code snippet are balanced.\n"
     ]
    }
   ],
   "source": [
    "def are_brackets_balanced(code):\n",
    "    stack = []\n",
    "    opening_brackets = \"([{\"\n",
    "    closing_brackets = \")]}\"\n",
    "\n",
    "    for char in code:\n",
    "        if char in opening_brackets:\n",
    "            stack.append(char)\n",
    "        elif char in closing_brackets:\n",
    "            if not stack or closing_brackets.index(char) != opening_brackets.index(stack.pop()):\n",
    "                return False\n",
    "    \n",
    "    return len(stack) == 0\n",
    "code_snippet = \"(a * (b - c) / {d + e})\"\n",
    "result = are_brackets_balanced(code_snippet)\n",
    "\n",
    "if result:\n",
    "    print(\"Brackets in the code snippet are balanced.\")\n",
    "else:\n",
    "    print(\"Brackets in the code snippet are not balanced.\")\n",
    "\n",
    "\n"
   ]
  },
  {
   "cell_type": "code",
   "execution_count": 13,
   "id": "14c115f4",
   "metadata": {},
   "outputs": [
    {
     "name": "stdout",
     "output_type": "stream",
     "text": [
      "Original Stack: [1, 2, 3, 4]\n",
      "Reversed Stack: [4, 3, 2, 1]\n"
     ]
    }
   ],
   "source": [
    "class Stack:\n",
    "    def __init__(self):\n",
    "        self.items = []\n",
    "\n",
    "    def is_empty(self):\n",
    "        return len(self.items) == 0\n",
    "\n",
    "    def push(self, item):\n",
    "        self.items.append(item)\n",
    "\n",
    "    def pop(self):\n",
    "        if not self.is_empty():\n",
    "            return self.items.pop()\n",
    "        else:\n",
    "            return None\n",
    "\n",
    "    def peek(self):\n",
    "        if not self.is_empty():\n",
    "            return self.items[-1]\n",
    "        else:\n",
    "            return None\n",
    "\n",
    "    def size(self):\n",
    "        return len(self.items)\n",
    "\n",
    "def insert_at_bottom(stack, item):\n",
    "    if stack.is_empty():\n",
    "        stack.push(item)\n",
    "    else:\n",
    "        popped_item = stack.pop()\n",
    "        insert_at_bottom(stack, item)\n",
    "        stack.push(popped_item)\n",
    "\n",
    "def reverse_stack(stack):\n",
    "    if not stack.is_empty():\n",
    "        item = stack.pop()\n",
    "        reverse_stack(stack)\n",
    "        insert_at_bottom(stack, item)\n",
    "s = Stack()\n",
    "s.push(1)\n",
    "s.push(2)\n",
    "s.push(3)\n",
    "s.push(4)\n",
    "\n",
    "print(\"Original Stack:\", s.items)\n",
    "reverse_stack(s)\n",
    "print(\"Reversed Stack:\", s.items)\n"
   ]
  },
  {
   "cell_type": "code",
   "execution_count": 14,
   "id": "b67aea6b",
   "metadata": {},
   "outputs": [
    {
     "name": "stdout",
     "output_type": "stream",
     "text": [
      "Minimum element in the stack: 1\n"
     ]
    }
   ],
   "source": [
    "class MinStack:\n",
    "    def __init__(self):\n",
    "        self.stack = []\n",
    "        self.min_stack = []\n",
    "\n",
    "    def is_empty(self):\n",
    "        return len(self.stack) == 0\n",
    "\n",
    "    def push(self, item):\n",
    "        self.stack.append(item)\n",
    "        if len(self.min_stack) == 0 or item <= self.min_stack[-1]:\n",
    "            self.min_stack.append(item)\n",
    "\n",
    "    def pop(self):\n",
    "        if not self.is_empty():\n",
    "            popped_item = self.stack.pop()\n",
    "            if popped_item == self.min_stack[-1]:\n",
    "                self.min_stack.pop()\n",
    "            return popped_item\n",
    "        else:\n",
    "            return None\n",
    "\n",
    "    def get_min(self):\n",
    "        if not self.is_empty():\n",
    "            return self.min_stack[-1]\n",
    "        else:\n",
    "            return None\n",
    "s = MinStack()\n",
    "s.push(3)\n",
    "s.push(5)\n",
    "s.push(2)\n",
    "s.push(1)\n",
    "\n",
    "print(\"Minimum element in the stack:\", s.get_min())\n"
   ]
  },
  {
   "cell_type": "code",
   "execution_count": null,
   "id": "cfa3e345",
   "metadata": {},
   "outputs": [],
   "source": []
  }
 ],
 "metadata": {
  "kernelspec": {
   "display_name": "Python 3 (ipykernel)",
   "language": "python",
   "name": "python3"
  },
  "language_info": {
   "codemirror_mode": {
    "name": "ipython",
    "version": 3
   },
   "file_extension": ".py",
   "mimetype": "text/x-python",
   "name": "python",
   "nbconvert_exporter": "python",
   "pygments_lexer": "ipython3",
   "version": "3.10.9"
  }
 },
 "nbformat": 4,
 "nbformat_minor": 5
}
